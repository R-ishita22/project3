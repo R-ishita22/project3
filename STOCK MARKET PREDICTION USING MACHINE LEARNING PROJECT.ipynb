{
 "cells": [
  {
   "cell_type": "code",
   "execution_count": 2,
   "id": "689ecde1",
   "metadata": {},
   "outputs": [],
   "source": [
    "import numpy as np\n",
    "import pandas as pd\n",
    "import matplotlib.pyplot as plt\n",
    "import yfinance as yf"
   ]
  },
  {
   "cell_type": "code",
   "execution_count": 4,
   "id": "6e146a44",
   "metadata": {},
   "outputs": [
    {
     "name": "stdout",
     "output_type": "stream",
     "text": [
      "[*********************100%%**********************]  1 of 1 completed\n"
     ]
    }
   ],
   "source": [
    "start = '2012-01-01'\n",
    "end = '2022-12-21'\n",
    "\n",
    "stock='GOOG'\n",
    "data = yf.download(stock, start, end)"
   ]
  },
  {
   "cell_type": "code",
   "execution_count": 6,
   "id": "54f03465",
   "metadata": {},
   "outputs": [
    {
     "data": {
      "text/html": [
       "<div>\n",
       "<style scoped>\n",
       "    .dataframe tbody tr th:only-of-type {\n",
       "        vertical-align: middle;\n",
       "    }\n",
       "\n",
       "    .dataframe tbody tr th {\n",
       "        vertical-align: top;\n",
       "    }\n",
       "\n",
       "    .dataframe thead th {\n",
       "        text-align: right;\n",
       "    }\n",
       "</style>\n",
       "<table border=\"1\" class=\"dataframe\">\n",
       "  <thead>\n",
       "    <tr style=\"text-align: right;\">\n",
       "      <th></th>\n",
       "      <th>Open</th>\n",
       "      <th>High</th>\n",
       "      <th>Low</th>\n",
       "      <th>Close</th>\n",
       "      <th>Adj Close</th>\n",
       "      <th>Volume</th>\n",
       "    </tr>\n",
       "    <tr>\n",
       "      <th>Date</th>\n",
       "      <th></th>\n",
       "      <th></th>\n",
       "      <th></th>\n",
       "      <th></th>\n",
       "      <th></th>\n",
       "      <th></th>\n",
       "    </tr>\n",
       "  </thead>\n",
       "  <tbody>\n",
       "    <tr>\n",
       "      <th>2012-01-03</th>\n",
       "      <td>16.262545</td>\n",
       "      <td>16.641375</td>\n",
       "      <td>16.248346</td>\n",
       "      <td>16.573130</td>\n",
       "      <td>16.573130</td>\n",
       "      <td>147611217</td>\n",
       "    </tr>\n",
       "    <tr>\n",
       "      <th>2012-01-04</th>\n",
       "      <td>16.563665</td>\n",
       "      <td>16.693678</td>\n",
       "      <td>16.453827</td>\n",
       "      <td>16.644611</td>\n",
       "      <td>16.644611</td>\n",
       "      <td>114989399</td>\n",
       "    </tr>\n",
       "    <tr>\n",
       "      <th>2012-01-05</th>\n",
       "      <td>16.491436</td>\n",
       "      <td>16.537264</td>\n",
       "      <td>16.344486</td>\n",
       "      <td>16.413727</td>\n",
       "      <td>16.413727</td>\n",
       "      <td>131808205</td>\n",
       "    </tr>\n",
       "    <tr>\n",
       "      <th>2012-01-06</th>\n",
       "      <td>16.417213</td>\n",
       "      <td>16.438385</td>\n",
       "      <td>16.184088</td>\n",
       "      <td>16.189817</td>\n",
       "      <td>16.189817</td>\n",
       "      <td>108119746</td>\n",
       "    </tr>\n",
       "    <tr>\n",
       "      <th>2012-01-09</th>\n",
       "      <td>16.102144</td>\n",
       "      <td>16.114599</td>\n",
       "      <td>15.472754</td>\n",
       "      <td>15.503389</td>\n",
       "      <td>15.503389</td>\n",
       "      <td>233776981</td>\n",
       "    </tr>\n",
       "  </tbody>\n",
       "</table>\n",
       "</div>"
      ],
      "text/plain": [
       "                 Open       High        Low      Close  Adj Close     Volume\n",
       "Date                                                                        \n",
       "2012-01-03  16.262545  16.641375  16.248346  16.573130  16.573130  147611217\n",
       "2012-01-04  16.563665  16.693678  16.453827  16.644611  16.644611  114989399\n",
       "2012-01-05  16.491436  16.537264  16.344486  16.413727  16.413727  131808205\n",
       "2012-01-06  16.417213  16.438385  16.184088  16.189817  16.189817  108119746\n",
       "2012-01-09  16.102144  16.114599  15.472754  15.503389  15.503389  233776981"
      ]
     },
     "execution_count": 6,
     "metadata": {},
     "output_type": "execute_result"
    }
   ],
   "source": [
    "data.head()"
   ]
  },
  {
   "cell_type": "code",
   "execution_count": 8,
   "id": "aa9c1ad8",
   "metadata": {},
   "outputs": [],
   "source": [
    "data.reset_index(inplace=True)"
   ]
  },
  {
   "cell_type": "code",
   "execution_count": 10,
   "id": "ff145b4e",
   "metadata": {},
   "outputs": [
    {
     "data": {
      "text/html": [
       "<div>\n",
       "<style scoped>\n",
       "    .dataframe tbody tr th:only-of-type {\n",
       "        vertical-align: middle;\n",
       "    }\n",
       "\n",
       "    .dataframe tbody tr th {\n",
       "        vertical-align: top;\n",
       "    }\n",
       "\n",
       "    .dataframe thead th {\n",
       "        text-align: right;\n",
       "    }\n",
       "</style>\n",
       "<table border=\"1\" class=\"dataframe\">\n",
       "  <thead>\n",
       "    <tr style=\"text-align: right;\">\n",
       "      <th></th>\n",
       "      <th>Date</th>\n",
       "      <th>Open</th>\n",
       "      <th>High</th>\n",
       "      <th>Low</th>\n",
       "      <th>Close</th>\n",
       "      <th>Adj Close</th>\n",
       "      <th>Volume</th>\n",
       "    </tr>\n",
       "  </thead>\n",
       "  <tbody>\n",
       "    <tr>\n",
       "      <th>0</th>\n",
       "      <td>2012-01-03</td>\n",
       "      <td>16.262545</td>\n",
       "      <td>16.641375</td>\n",
       "      <td>16.248346</td>\n",
       "      <td>16.573130</td>\n",
       "      <td>16.573130</td>\n",
       "      <td>147611217</td>\n",
       "    </tr>\n",
       "    <tr>\n",
       "      <th>1</th>\n",
       "      <td>2012-01-04</td>\n",
       "      <td>16.563665</td>\n",
       "      <td>16.693678</td>\n",
       "      <td>16.453827</td>\n",
       "      <td>16.644611</td>\n",
       "      <td>16.644611</td>\n",
       "      <td>114989399</td>\n",
       "    </tr>\n",
       "    <tr>\n",
       "      <th>2</th>\n",
       "      <td>2012-01-05</td>\n",
       "      <td>16.491436</td>\n",
       "      <td>16.537264</td>\n",
       "      <td>16.344486</td>\n",
       "      <td>16.413727</td>\n",
       "      <td>16.413727</td>\n",
       "      <td>131808205</td>\n",
       "    </tr>\n",
       "    <tr>\n",
       "      <th>3</th>\n",
       "      <td>2012-01-06</td>\n",
       "      <td>16.417213</td>\n",
       "      <td>16.438385</td>\n",
       "      <td>16.184088</td>\n",
       "      <td>16.189817</td>\n",
       "      <td>16.189817</td>\n",
       "      <td>108119746</td>\n",
       "    </tr>\n",
       "    <tr>\n",
       "      <th>4</th>\n",
       "      <td>2012-01-09</td>\n",
       "      <td>16.102144</td>\n",
       "      <td>16.114599</td>\n",
       "      <td>15.472754</td>\n",
       "      <td>15.503389</td>\n",
       "      <td>15.503389</td>\n",
       "      <td>233776981</td>\n",
       "    </tr>\n",
       "  </tbody>\n",
       "</table>\n",
       "</div>"
      ],
      "text/plain": [
       "        Date       Open       High        Low      Close  Adj Close     Volume\n",
       "0 2012-01-03  16.262545  16.641375  16.248346  16.573130  16.573130  147611217\n",
       "1 2012-01-04  16.563665  16.693678  16.453827  16.644611  16.644611  114989399\n",
       "2 2012-01-05  16.491436  16.537264  16.344486  16.413727  16.413727  131808205\n",
       "3 2012-01-06  16.417213  16.438385  16.184088  16.189817  16.189817  108119746\n",
       "4 2012-01-09  16.102144  16.114599  15.472754  15.503389  15.503389  233776981"
      ]
     },
     "execution_count": 10,
     "metadata": {},
     "output_type": "execute_result"
    }
   ],
   "source": [
    "data.head()"
   ]
  },
  {
   "cell_type": "code",
   "execution_count": 11,
   "id": "a94519c2",
   "metadata": {},
   "outputs": [],
   "source": [
    "ma_100_days = data.Close.rolling(100).mean"
   ]
  },
  {
   "cell_type": "code",
   "execution_count": 12,
   "id": "480f0d64",
   "metadata": {},
   "outputs": [
    {
     "data": {
      "image/png": "[encoded data removed]",
      "text/plain": [
       "<Figure size 800x600 with 1 Axes>"
      ]
     },
     "metadata": {},
     "output_type": "display_data"
    }
   ],
   "source": [
    "plt.figure(figsize=(8,6))\n",
    "plt.plot(ma_100_days, 'pink')\n",
    "plt.plot(data.Close, 'lightblue')\n",
    "plt.show()"
   ]
  },
  {
   "cell_type": "code",
   "execution_count": 23,
   "id": "fd487cde",
   "metadata": {},
   "outputs": [],
   "source": [
    "data.dropna(inplace=True)"
   ]
  },
  {
   "cell_type": "code",
   "execution_count": 27,
   "id": "4753b028",
   "metadata": {},
   "outputs": [],
   "source": [
    "data_train = pd.DataFrame(data.Close[0: int(len(data)*0.80)])\n",
    "data_test = pd.DataFrame(data.Close[int(len(data)*0.80): len(data)]) "
   ]
  },
  {
   "cell_type": "code",
   "execution_count": 28,
   "id": "464930bc",
   "metadata": {},
   "outputs": [
    {
     "data": {
      "text/plain": [
       "2208"
      ]
     },
     "execution_count": 28,
     "metadata": {},
     "output_type": "execute_result"
    }
   ],
   "source": [
    "data_train.shape[0]"
   ]
  },
  {
   "cell_type": "code",
   "execution_count": 30,
   "id": "84a044b5",
   "metadata": {},
   "outputs": [
    {
     "data": {
      "text/plain": [
       "553"
      ]
     },
     "execution_count": 30,
     "metadata": {},
     "output_type": "execute_result"
    }
   ],
   "source": [
    "data_test.shape[0]"
   ]
  },
  {
   "cell_type": "code",
   "execution_count": 31,
   "id": "df03c861",
   "metadata": {},
   "outputs": [],
   "source": [
    "from sklearn.preprocessing import MinMaxScaler\n",
    "scaler = MinMaxScaler(feature_range=(0,1))"
   ]
  },
  {
   "cell_type": "code",
   "execution_count": 33,
   "id": "fc9802b1",
   "metadata": {},
   "outputs": [],
   "source": [
    "data_train_scale = scaler.fit_transform(data_train)"
   ]
  },
  {
   "cell_type": "code",
   "execution_count": 34,
   "id": "0f368e78",
   "metadata": {},
   "outputs": [],
   "source": [
    "x=[]\n",
    "y=[]\n",
    "\n",
    "for i in range (100, data_train_scale.shape[0]):\n",
    "    x.append(data_train_scale[i-100:i])\n",
    "    y.append(data_train_scale[i,0])"
   ]
  },
  {
   "cell_type": "code",
   "execution_count": 36,
   "id": "6813a4a9",
   "metadata": {},
   "outputs": [],
   "source": [
    "x,y=np.array(x), np.array(y)  "
   ]
  },
  {
   "cell_type": "code",
   "execution_count": 37,
   "id": "8a04d807",
   "metadata": {},
   "outputs": [],
   "source": [
    "#MODEL CREATION\n",
    "from keras.layers import Dense, Dropout, LSTM\n",
    "from keras.models import Sequential"
   ]
  },
  {
   "cell_type": "code",
   "execution_count": 38,
   "id": "36bd5099",
   "metadata": {},
   "outputs": [],
   "source": [
    "model = Sequential()\n",
    "model.add(LSTM(units = 50, activation = 'relu', return_sequences = True,\n",
    "              input_shape = ((x.shape[1], 1))))\n",
    "model.add(Dropout(0.2))\n",
    "\n",
    "model.add(LSTM(units = 60, activation = 'relu', return_sequences = True))\n",
    "model.add(Dropout(0.3))\n",
    "\n",
    "model.add(LSTM(units = 80, activation = 'relu', return_sequences = True))\n",
    "model.add(Dropout(0.4))\n",
    "\n",
    "model.add(LSTM(units = 120, activation = 'relu'))\n",
    "model.add(Dropout(0.5))\n",
    "\n",
    "model.add(Dense(units = 1))"
   ]
  },
  {
   "cell_type": "code",
   "execution_count": 39,
   "id": "2a398cb8",
   "metadata": {},
   "outputs": [],
   "source": [
    "model.compile(optimizer = 'adam', loss ='mean_squared_error')"
   ]
  },
  {
   "cell_type": "code",
   "execution_count": 40,
   "id": "68570a75",
   "metadata": {},
   "outputs": [
    {
     "name": "stdout",
     "output_type": "stream",
     "text": [
      "Epoch 1/50\n",
      "66/66 [==============================] - 37s 382ms/step - loss: 0.0321\n",
      "Epoch 2/50\n",
      "66/66 [==============================] - 25s 373ms/step - loss: 0.0075\n",
      "Epoch 3/50\n",
      "66/66 [==============================] - 25s 381ms/step - loss: 0.0052\n",
      "Epoch 4/50\n",
      "66/66 [==============================] - 25s 382ms/step - loss: 0.0053\n",
      "Epoch 5/50\n",
      "66/66 [==============================] - 25s 373ms/step - loss: 0.0048\n",
      "Epoch 6/50\n",
      "66/66 [==============================] - 25s 382ms/step - loss: 0.0046\n",
      "Epoch 7/50\n",
      "66/66 [==============================] - 25s 385ms/step - loss: 0.0042\n",
      "Epoch 8/50\n",
      "66/66 [==============================] - 25s 384ms/step - loss: 0.0039\n",
      "Epoch 9/50\n",
      "66/66 [==============================] - 23s 347ms/step - loss: 0.0040\n",
      "Epoch 10/50\n",
      "66/66 [==============================] - 25s 372ms/step - loss: 0.0036\n",
      "Epoch 11/50\n",
      "66/66 [==============================] - 24s 368ms/step - loss: 0.0036\n",
      "Epoch 12/50\n",
      "66/66 [==============================] - 24s 371ms/step - loss: 0.0032\n",
      "Epoch 13/50\n",
      "66/66 [==============================] - 24s 369ms/step - loss: 0.0035\n",
      "Epoch 14/50\n",
      "66/66 [==============================] - 24s 370ms/step - loss: 0.0030\n",
      "Epoch 15/50\n",
      "66/66 [==============================] - 24s 370ms/step - loss: 0.0030\n",
      "Epoch 16/50\n",
      "66/66 [==============================] - 24s 363ms/step - loss: 0.0031\n",
      "Epoch 17/50\n",
      "66/66 [==============================] - 24s 357ms/step - loss: 0.0032\n",
      "Epoch 18/50\n",
      "66/66 [==============================] - 24s 367ms/step - loss: 0.0031\n",
      "Epoch 19/50\n",
      "66/66 [==============================] - 25s 371ms/step - loss: 0.0030\n",
      "Epoch 20/50\n",
      "66/66 [==============================] - 24s 371ms/step - loss: 0.0027\n",
      "Epoch 21/50\n",
      "66/66 [==============================] - 24s 366ms/step - loss: 0.0025\n",
      "Epoch 22/50\n",
      "66/66 [==============================] - 24s 369ms/step - loss: 0.0024\n",
      "Epoch 23/50\n",
      "66/66 [==============================] - 24s 369ms/step - loss: 0.0026\n",
      "Epoch 24/50\n",
      "66/66 [==============================] - 24s 368ms/step - loss: 0.0024\n",
      "Epoch 25/50\n",
      "66/66 [==============================] - 24s 370ms/step - loss: 0.0025\n",
      "Epoch 26/50\n",
      "66/66 [==============================] - 24s 368ms/step - loss: 0.0025\n",
      "Epoch 27/50\n",
      "66/66 [==============================] - 24s 369ms/step - loss: 0.0024\n",
      "Epoch 28/50\n",
      "66/66 [==============================] - 23s 352ms/step - loss: 0.0022\n",
      "Epoch 29/50\n",
      "66/66 [==============================] - 24s 369ms/step - loss: 0.0021\n",
      "Epoch 30/50\n",
      "66/66 [==============================] - 24s 368ms/step - loss: 0.0023\n",
      "Epoch 31/50\n",
      "66/66 [==============================] - 24s 368ms/step - loss: 0.0023\n",
      "Epoch 32/50\n",
      "66/66 [==============================] - 24s 365ms/step - loss: 0.0021\n",
      "Epoch 33/50\n",
      "66/66 [==============================] - 24s 368ms/step - loss: 0.0021\n",
      "Epoch 34/50\n",
      "66/66 [==============================] - 24s 371ms/step - loss: 0.0020\n",
      "Epoch 35/50\n",
      "66/66 [==============================] - 24s 369ms/step - loss: 0.0020\n",
      "Epoch 36/50\n",
      "66/66 [==============================] - 24s 369ms/step - loss: 0.0020\n",
      "Epoch 37/50\n",
      "66/66 [==============================] - 24s 368ms/step - loss: 0.0021\n",
      "Epoch 38/50\n",
      "66/66 [==============================] - 24s 369ms/step - loss: 0.0021\n",
      "Epoch 39/50\n",
      "66/66 [==============================] - 24s 366ms/step - loss: 0.0019\n",
      "Epoch 40/50\n",
      "66/66 [==============================] - 24s 367ms/step - loss: 0.0019\n",
      "Epoch 41/50\n",
      "66/66 [==============================] - 23s 354ms/step - loss: 0.0020\n",
      "Epoch 42/50\n",
      "66/66 [==============================] - 24s 363ms/step - loss: 0.0020\n",
      "Epoch 43/50\n",
      "66/66 [==============================] - 24s 368ms/step - loss: 0.0019\n",
      "Epoch 44/50\n",
      "66/66 [==============================] - 24s 369ms/step - loss: 0.0019\n",
      "Epoch 45/50\n",
      "66/66 [==============================] - 24s 366ms/step - loss: 0.0018\n",
      "Epoch 46/50\n",
      "66/66 [==============================] - 22s 335ms/step - loss: 0.0019\n",
      "Epoch 47/50\n",
      "66/66 [==============================] - 24s 365ms/step - loss: 0.0018\n",
      "Epoch 48/50\n",
      "66/66 [==============================] - 24s 362ms/step - loss: 0.0017\n",
      "Epoch 49/50\n",
      "66/66 [==============================] - 24s 366ms/step - loss: 0.0017\n",
      "Epoch 50/50\n",
      "66/66 [==============================] - 24s 367ms/step - loss: 0.0019\n"
     ]
    },
    {
     "data": {
      "text/plain": [
       "<keras.src.callbacks.History at 0x1eedd732f50>"
      ]
     },
     "execution_count": 40,
     "metadata": {},
     "output_type": "execute_result"
    }
   ],
   "source": [
    "model.fit(x, y, epochs=50, batch_size = 32, verbose = 1)"
   ]
  },
  {
   "cell_type": "code",
   "execution_count": 41,
   "id": "7206f668",
   "metadata": {},
   "outputs": [
    {
     "name": "stdout",
     "output_type": "stream",
     "text": [
      "Model: \"sequential\"\n",
      "_________________________________________________________________\n",
      " Layer (type)                Output Shape              Param #   \n",
      "=================================================================\n",
      " lstm (LSTM)                 (None, 100, 50)           10400     \n",
      "                                                                 \n",
      " dropout (Dropout)           (None, 100, 50)           0         \n",
      "                                                                 \n",
      " lstm_1 (LSTM)               (None, 100, 60)           26640     \n",
      "                                                                 \n",
      " dropout_1 (Dropout)         (None, 100, 60)           0         \n",
      "                                                                 \n",
      " lstm_2 (LSTM)               (None, 100, 80)           45120     \n",
      "                                                                 \n",
      " dropout_2 (Dropout)         (None, 100, 80)           0         \n",
      "                                                                 \n",
      " lstm_3 (LSTM)               (None, 120)               96480     \n",
      "                                                                 \n",
      " dropout_3 (Dropout)         (None, 120)               0         \n",
      "                                                                 \n",
      " dense (Dense)               (None, 1)                 121       \n",
      "                                                                 \n",
      "=================================================================\n",
      "Total params: 178761 (698.29 KB)\n",
      "Trainable params: 178761 (698.29 KB)\n",
      "Non-trainable params: 0 (0.00 Byte)\n",
      "_________________________________________________________________\n"
     ]
    }
   ],
   "source": [
    "model.summary()"
   ]
  },
  {
   "cell_type": "code",
   "execution_count": 42,
   "id": "6e0aaf3a",
   "metadata": {},
   "outputs": [],
   "source": [
    "pas_100_days = data_train.tail(100)"
   ]
  },
  {
   "cell_type": "code",
   "execution_count": 44,
   "id": "c312b782",
   "metadata": {},
   "outputs": [],
   "source": [
    "data_test = pd.concat([pas_100_days, data_test], ignore_index=True)"
   ]
  },
  {
   "cell_type": "code",
   "execution_count": 47,
   "id": "d64b2f0b",
   "metadata": {},
   "outputs": [
    {
     "data": {
      "text/html": [
       "<div>\n",
       "<style scoped>\n",
       "    .dataframe tbody tr th:only-of-type {\n",
       "        vertical-align: middle;\n",
       "    }\n",
       "\n",
       "    .dataframe tbody tr th {\n",
       "        vertical-align: top;\n",
       "    }\n",
       "\n",
       "    .dataframe thead th {\n",
       "        text-align: right;\n",
       "    }\n",
       "</style>\n",
       "<table border=\"1\" class=\"dataframe\">\n",
       "  <thead>\n",
       "    <tr style=\"text-align: right;\">\n",
       "      <th></th>\n",
       "      <th>Close</th>\n",
       "    </tr>\n",
       "  </thead>\n",
       "  <tbody>\n",
       "    <tr>\n",
       "      <th>0</th>\n",
       "      <td>70.335999</td>\n",
       "    </tr>\n",
       "    <tr>\n",
       "      <th>1</th>\n",
       "      <td>70.139999</td>\n",
       "    </tr>\n",
       "    <tr>\n",
       "      <th>2</th>\n",
       "      <td>70.521004</td>\n",
       "    </tr>\n",
       "    <tr>\n",
       "      <th>3</th>\n",
       "      <td>70.850998</td>\n",
       "    </tr>\n",
       "    <tr>\n",
       "      <th>4</th>\n",
       "      <td>70.891998</td>\n",
       "    </tr>\n",
       "    <tr>\n",
       "      <th>...</th>\n",
       "      <td>...</td>\n",
       "    </tr>\n",
       "    <tr>\n",
       "      <th>648</th>\n",
       "      <td>95.309998</td>\n",
       "    </tr>\n",
       "    <tr>\n",
       "      <th>649</th>\n",
       "      <td>91.199997</td>\n",
       "    </tr>\n",
       "    <tr>\n",
       "      <th>650</th>\n",
       "      <td>90.860001</td>\n",
       "    </tr>\n",
       "    <tr>\n",
       "      <th>651</th>\n",
       "      <td>89.150002</td>\n",
       "    </tr>\n",
       "    <tr>\n",
       "      <th>652</th>\n",
       "      <td>89.629997</td>\n",
       "    </tr>\n",
       "  </tbody>\n",
       "</table>\n",
       "<p>653 rows × 1 columns</p>\n",
       "</div>"
      ],
      "text/plain": [
       "         Close\n",
       "0    70.335999\n",
       "1    70.139999\n",
       "2    70.521004\n",
       "3    70.850998\n",
       "4    70.891998\n",
       "..         ...\n",
       "648  95.309998\n",
       "649  91.199997\n",
       "650  90.860001\n",
       "651  89.150002\n",
       "652  89.629997\n",
       "\n",
       "[653 rows x 1 columns]"
      ]
     },
     "execution_count": 47,
     "metadata": {},
     "output_type": "execute_result"
    }
   ],
   "source": [
    "data_test"
   ]
  },
  {
   "cell_type": "code",
   "execution_count": 48,
   "id": "23bbb658",
   "metadata": {},
   "outputs": [],
   "source": [
    "data_test_scale = scaler.fit_transform(data_test)"
   ]
  },
  {
   "cell_type": "code",
   "execution_count": 50,
   "id": "0957161f",
   "metadata": {},
   "outputs": [],
   "source": [
    "x=[]\n",
    "y=[]\n",
    "\n",
    "for i in range (100, data_test_scale.shape[0]):\n",
    "    x.append(data_test_scale[i-100:i])\n",
    "    y.append(data_test_scale[i,0])\n",
    "x, y = np.array(x), np.array(y)"
   ]
  },
  {
   "cell_type": "code",
   "execution_count": 51,
   "id": "e1bed6f9",
   "metadata": {},
   "outputs": [
    {
     "name": "stdout",
     "output_type": "stream",
     "text": [
      "18/18 [==============================] - 4s 145ms/step\n"
     ]
    }
   ],
   "source": [
    "y_predict = model.predict(x)"
   ]
  },
  {
   "cell_type": "code",
   "execution_count": 55,
   "id": "8da3ee41",
   "metadata": {},
   "outputs": [],
   "source": [
    "scale=1/scaler.scale_"
   ]
  },
  {
   "cell_type": "code",
   "execution_count": 56,
   "id": "12bfbb75",
   "metadata": {},
   "outputs": [],
   "source": [
    "y_predict = y_predict*scale"
   ]
  },
  {
   "cell_type": "code",
   "execution_count": 57,
   "id": "e314a7b3",
   "metadata": {},
   "outputs": [],
   "source": [
    "y=y*scale"
   ]
  },
  {
   "cell_type": "code",
   "execution_count": 60,
   "id": "36709b13",
   "metadata": {},
   "outputs": [
    {
     "data": {
      "image/png": "[encoded data removed]",
      "text/plain": [
       "<Figure size 1000x800 with 1 Axes>"
      ]
     },
     "metadata": {},
     "output_type": "display_data"
    }
   ],
   "source": [
    "plt.figure(figsize=(10,8))\n",
    "plt.plot(y_predict, 'brown', label = 'Predicted Price')\n",
    "plt.plot(y, 'Lightblue', label='Original Price')\n",
    "plt.xlabel('Time')\n",
    "plt.ylabel('Price')\n",
    "plt.legend()\n",
    "plt.show()"
   ]
  },
  {
   "cell_type": "code",
   "execution_count": 62,
   "id": "a188691f",
   "metadata": {},
   "outputs": [],
   "source": [
    "model.save('Stock Market Prediction.keras')"
   ]
  },
  {
   "cell_type": "code",
   "execution_count": null,
   "id": "47a74758",
   "metadata": {},
   "outputs": [],
   "source": []
  }
 ],
 "metadata": {
  "kernelspec": {
   "display_name": "Python 3 (ipykernel)",
   "language": "python",
   "name": "python3"
  },
  "language_info": {
   "codemirror_mode": {
    "name": "ipython",
    "version": 3
   },
   "file_extension": ".py",
   "mimetype": "text/x-python",
   "name": "python",
   "nbconvert_exporter": "python",
   "pygments_lexer": "ipython3",
   "version": "3.10.9"
  }
 },
 "nbformat": 4,
 "nbformat_minor": 5
}
